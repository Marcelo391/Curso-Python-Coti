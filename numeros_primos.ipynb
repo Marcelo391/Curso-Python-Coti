{
  "nbformat": 4,
  "nbformat_minor": 0,
  "metadata": {
    "colab": {
      "name": "numeros_primos.ipynb",
      "provenance": [],
      "collapsed_sections": [],
      "authorship_tag": "ABX9TyPrDGS1gk6fs6Ag3Ngq4inP",
      "include_colab_link": true
    },
    "kernelspec": {
      "name": "python3",
      "display_name": "Python 3"
    }
  },
  "cells": [
    {
      "cell_type": "markdown",
      "metadata": {
        "id": "view-in-github",
        "colab_type": "text"
      },
      "source": [
        "<a href=\"https://colab.research.google.com/github/Marcelo391/Curso-Python-Coti/blob/master/numeros_primos.ipynb\" target=\"_parent\"><img src=\"https://colab.research.google.com/assets/colab-badge.svg\" alt=\"Open In Colab\"/></a>"
      ]
    },
    {
      "cell_type": "markdown",
      "metadata": {
        "id": "daeTgP6QVkbR",
        "colab_type": "text"
      },
      "source": [
        "# Exibindo números primos - Python"
      ]
    },
    {
      "cell_type": "code",
      "metadata": {
        "id": "xv4RhRUXU28b",
        "colab_type": "code",
        "colab": {}
      },
      "source": [
        "for n in range(1, 10001):\n",
        "    primo = True\n",
        "    for x in range(2, n):\n",
        "        if n % x == 0:           \n",
        "            primo = False\n",
        "            break\n",
        "    if primo:\n",
        "        print(n)"
      ],
      "execution_count": 0,
      "outputs": []
    }
  ]
}